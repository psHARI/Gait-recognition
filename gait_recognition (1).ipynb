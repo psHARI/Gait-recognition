{
  "cells": [
    {
      "cell_type": "code",
      "execution_count": 1,
      "metadata": {
        "id": "ukaVLzj6A2dx"
      },
      "outputs": [],
      "source": [
        " import matplotlib.pyplot as pp"
      ]
    },
    {
      "cell_type": "code",
      "execution_count": 2,
      "metadata": {
        "id": "gJiZy1hWA6N6"
      },
      "outputs": [],
      "source": [
        "import numpy as np"
      ]
    },
    {
      "cell_type": "code",
      "execution_count": 3,
      "metadata": {
        "id": "wczGXQ9yBEj6"
      },
      "outputs": [],
      "source": [
        "from skimage.io import imread"
      ]
    },
    {
      "cell_type": "code",
      "execution_count": 4,
      "metadata": {
        "id": "NvZ_vLV2pf4u"
      },
      "outputs": [],
      "source": [
        "from skimage.transform import resize"
      ]
    },
    {
      "cell_type": "code",
      "execution_count": 5,
      "metadata": {
        "id": "EESOOMaYBOvq"
      },
      "outputs": [],
      "source": [
        "import os"
      ]
    },
    {
      "cell_type": "code",
      "execution_count": 6,
      "metadata": {
        "id": "Sjo3eU4nBSGj"
      },
      "outputs": [],
      "source": [
        "target=[]\n",
        "images=[]\n",
        "flat_data=[]"
      ]
    },
    {
      "cell_type": "code",
      "execution_count": 7,
      "metadata": {
        "id": "Qty2ZdCKBUey"
      },
      "outputs": [],
      "source": [
        "datadir = '/content/drive/MyDrive/gait/GaitDatasetA-silh'"
      ]
    },
    {
      "cell_type": "code",
      "execution_count": 8,
      "metadata": {
        "id": "Sl2bRIYbBlDD"
      },
      "outputs": [],
      "source": [
        "categories = ['1' ,'1 (2)','1 (3)',]\n",
        "for category in categories:\n",
        "  class_num=categories.index(category)\n",
        "  path=os.path.join(datadir,category)\n",
        "  for img in os.listdir(path):\n",
        "    img_array=imread(os.path.join(path,img))\n",
        "    img_resized=resize(img_array,(150,150,3))\n",
        "    flat_data.append(img_resized.flatten())\n",
        "    images.append(img_resized)\n",
        "    target.append(class_num)"
      ]
    },
    {
      "cell_type": "code",
      "execution_count": 9,
      "metadata": {
        "id": "y35O_Y3gzSnC"
      },
      "outputs": [],
      "source": [
        "flat_data=np.array(flat_data)"
      ]
    },
    {
      "cell_type": "code",
      "execution_count": 10,
      "metadata": {
        "id": "SbJ2_HkTzb12"
      },
      "outputs": [],
      "source": [
        "target=np.array(target)"
      ]
    },
    {
      "cell_type": "code",
      "execution_count": 11,
      "metadata": {
        "id": "dh2-fhzXzfPq"
      },
      "outputs": [],
      "source": [
        "images=np.array(images)"
      ]
    },
    {
      "cell_type": "code",
      "execution_count": 12,
      "metadata": {
        "id": "yJTIqt7nzhEM"
      },
      "outputs": [],
      "source": [
        "#split data\n",
        "from sklearn.model_selection import train_test_split\n",
        "x_train,x_test,y_train,y_test = train_test_split(flat_data,target,test_size=0.3)"
      ]
    },
    {
      "cell_type": "code",
      "execution_count": 13,
      "metadata": {
        "id": "2mL508nL1N2z"
      },
      "outputs": [],
      "source": [
        "from sklearn.linear_model import LinearRegression\n",
        "from sklearn.metrics import mean_squared_error, r2_score"
      ]
    },
    {
      "cell_type": "code",
      "execution_count": 14,
      "metadata": {
        "id": "_r0I9P8m1VA1"
      },
      "outputs": [],
      "source": [
        "linear = LinearRegression()"
      ]
    },
    {
      "cell_type": "code",
      "execution_count": 15,
      "metadata": {
        "colab": {
          "base_uri": "https://localhost:8080/"
        },
        "id": "cwA-Rm8w1XiX",
        "outputId": "63ea5b95-a9a1-4654-df61-aaf2bd65d28a"
      },
      "outputs": [
        {
          "output_type": "stream",
          "name": "stdout",
          "text": [
            "[[0. 0. 0. ... 0. 0. 0.]\n",
            " [0. 0. 0. ... 0. 0. 0.]\n",
            " [0. 0. 0. ... 0. 0. 0.]\n",
            " ...\n",
            " [0. 0. 0. ... 0. 0. 0.]\n",
            " [0. 0. 0. ... 0. 0. 0.]\n",
            " [0. 0. 0. ... 0. 0. 0.]]\n"
          ]
        }
      ],
      "source": [
        "print(x_train)"
      ]
    },
    {
      "cell_type": "code",
      "execution_count": 16,
      "metadata": {
        "colab": {
          "base_uri": "https://localhost:8080/"
        },
        "id": "0FZUOw_w1axI",
        "outputId": "b88d4bbb-bcd8-42c0-e23a-044739ce288f"
      },
      "outputs": [
        {
          "output_type": "stream",
          "name": "stdout",
          "text": [
            "[1 2 1 ... 2 1 2]\n"
          ]
        }
      ],
      "source": [
        "print(y_train)"
      ]
    },
    {
      "cell_type": "code",
      "execution_count": 17,
      "metadata": {
        "id": "3dBcihunrH2W"
      },
      "outputs": [],
      "source": [
        "#ols_predict"
      ]
    },
    {
      "cell_type": "code",
      "execution_count": 18,
      "metadata": {
        "colab": {
          "base_uri": "https://localhost:8080/"
        },
        "id": "7kop2Ghy4JMM",
        "outputId": "4fa8639f-0050-4ff1-81cf-189294e3d7dc"
      },
      "outputs": [
        {
          "output_type": "stream",
          "name": "stdout",
          "text": [
            "[2 1 2 0 2 1 1 2 2 0 0 0 1 2 2 1 0 1 1 1 0 0 2 0 0 2 1 0 1 2 1 1 1 1 1 1 2\n",
            " 0 2 0 1 2 1 1 1 1 2 0 2 0 0 2 2 0 0 0 0 1 0 0 1 1 0 1 0 1 0 1 1 0 1 0 0 0\n",
            " 1 1 2 1 0 2 0 2 0 1 2 0 0 2 0 2 2 1 2 2 1 1 1 2 0 0 2 0 1 2 0 0 2 0 2 0 2\n",
            " 0 2 1 2 2 0 0 1 2 1 2 1 0 0 2 1 0 0 1 0 0 1 0 2 0 1 1 0 1 2 1 2 1 1 0 0 0\n",
            " 2 1 2 0 2 0 2 2 1 0 0 2 1 2 1 1 2 0 2 2 0 2 1 0 1 1 0 1 1 1 2 0 1 0 2 1 2\n",
            " 0 2 2 1 0 2 2 0 2 0 1 2 2 1 1 0 0 1 1 1 0 0 0 0 2 1 2 0 0 1 1 0 1 2 0 1 0\n",
            " 2 2 2 2 2 0 1 1 1 1 1 2 0 2 2 0 2 2 0 0 1 0 1 0 1 1 1 0 0 0 0 0 0 1 0 0 0\n",
            " 0 1 1 2 0 1 2 0 0 2 1 1 2 2 0 1 2 2 0 0 0 2 0 0 1 1 2 1 1 2 1 2 0 1 1 0 1\n",
            " 2 0 0 1 0 2 0 1 2 0 0 0 2 1 2 2 0 0 1 1 0 1 2 0 0 0 0 1 0 1 2 2 0 1 0 0 0\n",
            " 2 1 2 1 2 2 0 2 0 0 1 0 0 0 1 0 1 2 1 1 0 0 1 1 1 1 0 0 1 1 2 2 2 0 2 1 1\n",
            " 1 2 0 0 0 0 2 2 2 2 1 1 1 2 2 0 0 1 0 1 2 2 1 1 0 0 1 0 1 0 0 2 2 1 1 0 2\n",
            " 0 2 1 1 2 1 0 2 1 0 2 0 0 2 0 0 0 1 0 1 2 1 0 0 2 2 2 0 0 0 2 0 1 0 1 2 0\n",
            " 0 1 2 0 0 1 1 1 1 2 1 0 0 0 1 2 2 0 2 0 1 0 2 1 0 1 2 0 2 2 2 1 0 2 1 2 1\n",
            " 0 0 2 2 2 0 0 2 1 1 0 0 2 2 2 1 1 2 0 2 0 0 0 2 1 1 1 2 0 2 1 0 0 0 1 0 2\n",
            " 1 1 2 0 1 0 1 1 0 0 2 0 1 1 2 1 1 1 2 1 2 0 0 2 1 2 1 2 2 1 0 0 2 0 0 2 1\n",
            " 0 1 0 2 0 0 0 1 0 0 0 1 0 1 0 2 2 0 2 0 0 0 1 2 2 2 2 0 2 1 1 2 2 1 2 0 0\n",
            " 1 0 2 0 1 1 0 0 0 2 1 0 0 0 0 1 2 0 1 2 2 1 0 0 0 1 2 1 0 0 0 0 2 2 0 2 0\n",
            " 1 2 2 0 2 2 2 2 2 1 0 1 1 0 2 0 1 1 2 1 2 1 2 2 1 1 2 0 0 1 1 0 0 0 0 1 1\n",
            " 1 0 0 1 0 1 1 0 1 0 0 0 1 0 1 0 0 1 0 0 1 1 1 1 1 2 1 1 1 2 2 0 2 0 1 2 2\n",
            " 0 2 2 0 1 1 0 1 0 2 1 1 1 0 0 2 0 1 0 0 1 0 1 0 0 1 0 0 1 0 1 2 1 2 0 0 2\n",
            " 0 0 0 2 0 0 1 0 0 2 0 2 0 0 2 2 1 0 2 1 1 0 0 2 0 1 0 0 1 1 1 0 1 1 2 2 1\n",
            " 2 2 2 0 2 0 1 1 1 1 0 0 0 0 2 0 2 0 2 1 0 0 2 2 2 1 0 2 0 2 0 0 0 2 0 0 0\n",
            " 0 0 0 0 2 1 1 2 2 0 0 0 1 1 2 1 0 1 0 0 1 0 1 0 2 1 1 1 0 0 2 0 1 0 2 0 0\n",
            " 0 0 1 1 2 2 2 0 2 2 2 1 0 1 0 2 0 1 0 0 0 1 1 0 2 0 2 2 1 2 2 0 1 1 2 2 1\n",
            " 0 0 0 2 2 0 1 0 2 2 1 1 2 0 2 1 0 1 2 2 1 2 2 1 2 1 0 2 2 0 1 2 1 2]\n"
          ]
        }
      ],
      "source": [
        "print(y_test)"
      ]
    },
    {
      "cell_type": "code",
      "execution_count": 19,
      "metadata": {
        "colab": {
          "base_uri": "https://localhost:8080/"
        },
        "id": "PbsN49QD1fQi",
        "outputId": "fa1b0466-16f9-4812-9ecb-4492470ae5fd"
      },
      "outputs": [
        {
          "output_type": "stream",
          "name": "stdout",
          "text": [
            "[[0. 0. 0. ... 0. 0. 0.]\n",
            " [0. 0. 0. ... 0. 0. 0.]\n",
            " [0. 0. 0. ... 0. 0. 0.]\n",
            " ...\n",
            " [0. 0. 0. ... 0. 0. 0.]\n",
            " [0. 0. 0. ... 0. 0. 0.]\n",
            " [0. 0. 0. ... 0. 0. 0.]]\n"
          ]
        }
      ],
      "source": [
        "print(x_test)"
      ]
    },
    {
      "cell_type": "code",
      "execution_count": 20,
      "metadata": {
        "colab": {
          "base_uri": "https://localhost:8080/"
        },
        "id": "9dhbbMzw1kpf",
        "outputId": "46a93b69-ff57-481c-a6d9-0a6ff0ca0632"
      },
      "outputs": [
        {
          "output_type": "execute_result",
          "data": {
            "text/plain": [
              "LinearRegression()"
            ]
          },
          "metadata": {},
          "execution_count": 20
        }
      ],
      "source": [
        "linear.fit(x_train, y_train)"
      ]
    },
    {
      "cell_type": "code",
      "execution_count": 21,
      "metadata": {
        "id": "GFsayaxF7d0u"
      },
      "outputs": [],
      "source": [
        "OLS_predict = linear.predict(x_test)"
      ]
    },
    {
      "cell_type": "code",
      "execution_count": 22,
      "metadata": {
        "colab": {
          "base_uri": "https://localhost:8080/"
        },
        "id": "q4uCBMSU7lcc",
        "outputId": "0861373e-0bf3-426f-f370-86eb1cbbca56"
      },
      "outputs": [
        {
          "output_type": "execute_result",
          "data": {
            "text/plain": [
              "0.9269126900560373"
            ]
          },
          "metadata": {},
          "execution_count": 22
        }
      ],
      "source": [
        "linear.score(x_test,y_test)"
      ]
    },
    {
      "cell_type": "code",
      "execution_count": 23,
      "metadata": {
        "id": "J0d4PPj17oZ2"
      },
      "outputs": [],
      "source": [
        "#Constructing the confusion matrix for linear regression classifier\n",
        "#r2_score(OLS_predict, y_test)"
      ]
    },
    {
      "cell_type": "code",
      "execution_count": 24,
      "metadata": {
        "id": "G3_nzqcn7wJW"
      },
      "outputs": [],
      "source": [
        "#Fitting Logistic Regression to the training set\n",
        "from sklearn.svm import SVC"
      ]
    },
    {
      "cell_type": "code",
      "execution_count": 24,
      "metadata": {
        "id": "yaH43W627w3B"
      },
      "outputs": [],
      "source": []
    },
    {
      "cell_type": "code",
      "execution_count": 25,
      "metadata": {
        "colab": {
          "base_uri": "https://localhost:8080/"
        },
        "id": "WfjYEWND7yhs",
        "outputId": "467c6cab-f0e4-4656-8e7c-1d40e0ab04be"
      },
      "outputs": [
        {
          "output_type": "execute_result",
          "data": {
            "text/plain": [
              "SVC(kernel='linear')"
            ]
          },
          "metadata": {},
          "execution_count": 25
        }
      ],
      "source": [
        "svclassifier = SVC(kernel = 'linear')\n",
        "svclassifier.fit(x_train, y_train)\n"
      ]
    },
    {
      "cell_type": "code",
      "execution_count": 26,
      "metadata": {
        "colab": {
          "base_uri": "https://localhost:8080/"
        },
        "id": "wSBUVJqB72AA",
        "outputId": "0751c666-8fbb-4738-c8d7-4a7e611dd865"
      },
      "outputs": [
        {
          "output_type": "execute_result",
          "data": {
            "text/plain": [
              "0.9887027406444024"
            ]
          },
          "metadata": {},
          "execution_count": 26
        }
      ],
      "source": [
        "#Predicting the test set result\n",
        "y_pred_S = svclassifier.predict(x_test)\n",
        "y_pred_S\n",
        "r2_score(y_pred_S, y_test)"
      ]
    },
    {
      "cell_type": "code",
      "execution_count": 27,
      "metadata": {
        "id": "tUMoCk4l726f"
      },
      "outputs": [],
      "source": [
        "#Fitting Decision Tree classifier to the training set"
      ]
    },
    {
      "cell_type": "code",
      "execution_count": 28,
      "metadata": {
        "colab": {
          "base_uri": "https://localhost:8080/"
        },
        "id": "mWXyWzQH758k",
        "outputId": "a1c087f4-1904-43d2-9049-43173a3fdf75"
      },
      "outputs": [
        {
          "output_type": "execute_result",
          "data": {
            "text/plain": [
              "DecisionTreeClassifier(criterion='entropy', random_state=0)"
            ]
          },
          "metadata": {},
          "execution_count": 28
        }
      ],
      "source": [
        "from sklearn.tree import DecisionTreeClassifier\n",
        "classifier_dt = DecisionTreeClassifier(criterion='entropy', random_state=0)\n",
        "classifier_dt.fit(x_train,y_train)"
      ]
    },
    {
      "cell_type": "code",
      "execution_count": 29,
      "metadata": {
        "colab": {
          "base_uri": "https://localhost:8080/"
        },
        "id": "v6zjVpuO8AjB",
        "outputId": "0237abc0-b0d3-4823-eb9a-9eab1cd59157"
      },
      "outputs": [
        {
          "output_type": "execute_result",
          "data": {
            "text/plain": [
              "array([2, 1, 2, 0, 2, 1, 1, 2, 2, 0, 0, 0, 1, 2, 2, 1, 0, 1, 1, 1, 0, 0,\n",
              "       2, 0, 0, 2, 1, 0, 1, 2, 1, 1, 1, 1, 1, 1, 2, 0, 2, 0, 1, 2, 0, 1,\n",
              "       1, 1, 2, 0, 2, 0, 0, 2, 2, 0, 0, 0, 0, 1, 0, 0, 1, 1, 0, 1, 0, 1,\n",
              "       0, 1, 1, 0, 1, 0, 0, 0, 1, 1, 2, 1, 0, 2, 0, 2, 0, 1, 2, 0, 0, 2,\n",
              "       0, 2, 2, 1, 2, 2, 1, 1, 1, 2, 0, 0, 2, 0, 1, 2, 0, 0, 2, 0, 2, 0,\n",
              "       2, 0, 2, 1, 2, 2, 0, 0, 1, 2, 1, 2, 1, 0, 0, 2, 1, 0, 0, 1, 0, 0,\n",
              "       1, 0, 2, 0, 1, 1, 0, 1, 2, 1, 2, 1, 1, 0, 0, 0, 2, 1, 2, 0, 2, 0,\n",
              "       2, 2, 1, 0, 0, 2, 1, 2, 1, 1, 2, 0, 2, 2, 0, 2, 1, 0, 1, 1, 0, 1,\n",
              "       1, 1, 2, 0, 1, 0, 2, 1, 2, 0, 2, 2, 1, 0, 2, 2, 0, 2, 0, 1, 2, 2,\n",
              "       1, 1, 0, 0, 1, 1, 1, 0, 0, 0, 0, 2, 1, 2, 0, 0, 1, 1, 0, 1, 2, 0,\n",
              "       1, 0, 2, 2, 2, 2, 2, 0, 1, 1, 1, 1, 1, 2, 0, 2, 2, 0, 2, 2, 0, 0,\n",
              "       1, 0, 1, 0, 1, 1, 1, 0, 0, 0, 0, 0, 0, 1, 0, 0, 0, 0, 1, 1, 2, 0,\n",
              "       1, 2, 0, 0, 2, 1, 1, 2, 2, 0, 1, 2, 2, 0, 0, 0, 2, 0, 0, 1, 1, 2,\n",
              "       1, 1, 2, 1, 2, 0, 1, 1, 0, 1, 2, 0, 0, 1, 0, 2, 0, 1, 2, 0, 0, 0,\n",
              "       2, 1, 2, 2, 0, 0, 1, 1, 0, 1, 2, 0, 0, 0, 0, 1, 0, 1, 2, 2, 0, 1,\n",
              "       0, 0, 0, 2, 1, 2, 1, 2, 2, 0, 2, 0, 0, 1, 0, 0, 0, 1, 0, 0, 2, 1,\n",
              "       1, 0, 0, 1, 1, 1, 1, 0, 0, 1, 1, 2, 2, 2, 0, 2, 1, 1, 1, 2, 0, 0,\n",
              "       0, 0, 2, 2, 2, 2, 1, 1, 1, 2, 2, 0, 0, 1, 0, 1, 2, 2, 1, 1, 0, 0,\n",
              "       1, 0, 1, 0, 0, 2, 2, 1, 1, 0, 2, 0, 2, 1, 1, 2, 1, 0, 2, 1, 0, 2,\n",
              "       0, 0, 2, 0, 0, 0, 1, 0, 1, 2, 1, 0, 0, 2, 2, 2, 0, 0, 0, 2, 0, 1,\n",
              "       0, 1, 2, 0, 0, 1, 2, 0, 0, 1, 1, 1, 1, 2, 1, 0, 0, 0, 1, 2, 2, 0,\n",
              "       2, 0, 1, 0, 2, 1, 0, 1, 2, 0, 2, 2, 2, 1, 0, 2, 1, 2, 1, 0, 0, 2,\n",
              "       2, 2, 0, 0, 2, 1, 1, 0, 0, 2, 2, 2, 1, 1, 2, 0, 2, 0, 0, 0, 2, 1,\n",
              "       1, 1, 2, 0, 2, 1, 0, 0, 0, 1, 0, 2, 1, 1, 2, 0, 1, 0, 1, 1, 0, 0,\n",
              "       2, 0, 1, 1, 2, 1, 1, 0, 2, 1, 2, 0, 0, 2, 1, 2, 1, 2, 2, 1, 0, 0,\n",
              "       2, 0, 0, 2, 1, 0, 1, 0, 2, 0, 0, 0, 1, 0, 0, 0, 1, 0, 1, 0, 2, 2,\n",
              "       0, 2, 0, 0, 0, 1, 2, 2, 2, 2, 0, 2, 1, 1, 2, 2, 1, 2, 0, 0, 1, 0,\n",
              "       2, 0, 1, 1, 0, 0, 0, 2, 1, 0, 0, 0, 0, 1, 2, 0, 1, 2, 2, 1, 0, 0,\n",
              "       0, 1, 2, 1, 0, 0, 0, 0, 2, 2, 0, 2, 0, 1, 2, 2, 0, 2, 2, 2, 2, 2,\n",
              "       1, 0, 1, 1, 0, 2, 0, 1, 1, 2, 1, 2, 1, 2, 2, 1, 1, 2, 0, 1, 1, 1,\n",
              "       0, 0, 0, 0, 1, 1, 1, 0, 0, 1, 0, 1, 1, 0, 1, 0, 0, 0, 1, 0, 1, 0,\n",
              "       0, 1, 0, 0, 1, 1, 1, 1, 1, 2, 1, 1, 1, 2, 2, 0, 2, 0, 1, 2, 2, 0,\n",
              "       2, 2, 0, 1, 1, 0, 1, 0, 2, 1, 1, 1, 0, 1, 2, 0, 1, 0, 0, 1, 0, 1,\n",
              "       0, 0, 1, 0, 0, 1, 0, 1, 2, 1, 2, 0, 0, 2, 0, 0, 0, 2, 0, 0, 1, 0,\n",
              "       0, 2, 0, 2, 0, 0, 2, 2, 1, 0, 2, 1, 1, 0, 0, 2, 0, 1, 0, 0, 1, 1,\n",
              "       1, 0, 1, 1, 2, 2, 0, 2, 2, 2, 0, 2, 0, 1, 1, 1, 1, 0, 0, 0, 0, 2,\n",
              "       0, 2, 0, 1, 1, 0, 0, 2, 2, 2, 1, 0, 2, 0, 2, 0, 0, 0, 2, 0, 0, 0,\n",
              "       0, 0, 0, 0, 2, 1, 1, 2, 2, 0, 0, 0, 1, 1, 2, 1, 0, 1, 0, 0, 1, 0,\n",
              "       1, 0, 2, 1, 1, 1, 0, 0, 2, 0, 1, 0, 2, 0, 0, 0, 0, 1, 1, 2, 2, 2,\n",
              "       0, 2, 2, 2, 1, 0, 1, 0, 2, 0, 1, 0, 0, 0, 1, 1, 0, 2, 0, 2, 2, 1,\n",
              "       2, 2, 0, 1, 1, 2, 2, 1, 0, 0, 0, 2, 2, 0, 1, 0, 2, 2, 1, 1, 2, 0,\n",
              "       2, 1, 0, 1, 2, 2, 1, 2, 2, 1, 2, 1, 0, 2, 2, 0, 1, 2, 1, 2])"
            ]
          },
          "metadata": {},
          "execution_count": 29
        }
      ],
      "source": [
        "#Predicting the test set result\n",
        "y_pred_dt = svclassifier.predict(x_test)\n",
        "y_pred_dt"
      ]
    },
    {
      "cell_type": "code",
      "execution_count": 30,
      "metadata": {
        "colab": {
          "base_uri": "https://localhost:8080/"
        },
        "id": "cXvb9XP08DtZ",
        "outputId": "1dbece9d-3385-4abd-a054-0bb588bc357f"
      },
      "outputs": [
        {
          "output_type": "execute_result",
          "data": {
            "text/plain": [
              "0.9887027406444024"
            ]
          },
          "metadata": {},
          "execution_count": 30
        }
      ],
      "source": [
        "#Creating the Confusion matrix\n",
        "from sklearn.metrics import confusion_matrix\n",
        "cm = confusion_matrix(y_test, y_pred_dt)\n",
        "r2_score(y_pred_dt, y_test)"
      ]
    },
    {
      "cell_type": "code",
      "execution_count": 31,
      "metadata": {
        "id": "9UYLbD9t8GQ6"
      },
      "outputs": [],
      "source": [
        "#Fitting Random Forest classifiers to the training set\n",
        "from sklearn.ensemble import RandomForestClassifier\n",
        "classifier_rf = RandomForestClassifier(n_estimators=200, criterion=\"entropy\")\n",
        "classifier_rf.fit(x_train, y_train)\n",
        "y_pred_rf = classifier_rf.predict(x_test)"
      ]
    },
    {
      "cell_type": "code",
      "execution_count": 32,
      "metadata": {
        "colab": {
          "base_uri": "https://localhost:8080/"
        },
        "id": "MAznBZg68I40",
        "outputId": "980bdf36-f773-4b50-d0d0-2c6d63eea2bd"
      },
      "outputs": [
        {
          "output_type": "execute_result",
          "data": {
            "text/plain": [
              "0.9822697577169909"
            ]
          },
          "metadata": {},
          "execution_count": 32
        }
      ],
      "source": [
        "#Creating the Confusion matrix\n",
        "from sklearn.metrics import confusion_matrix\n",
        "cm_rf = confusion_matrix(y_test, y_pred_rf)\n",
        "r2_score(y_pred_rf, y_test)"
      ]
    },
    {
      "cell_type": "code",
      "execution_count": 33,
      "metadata": {
        "colab": {
          "base_uri": "https://localhost:8080/"
        },
        "id": "-dZvpFmg8NvR",
        "outputId": "5f4190eb-4faa-4737-a2de-8a66f9fdf21e"
      },
      "outputs": [
        {
          "output_type": "execute_result",
          "data": {
            "text/plain": [
              "Lasso(alpha=0.001)"
            ]
          },
          "metadata": {},
          "execution_count": 33
        }
      ],
      "source": [
        "from sklearn.linear_model import Lasso\n",
        "model_lasso = Lasso(alpha= 0.001)\n",
        "model_lasso.fit(x_train, y_train)"
      ]
    },
    {
      "cell_type": "code",
      "execution_count": 34,
      "metadata": {
        "colab": {
          "base_uri": "https://localhost:8080/"
        },
        "id": "WUdK__3J8Qmv",
        "outputId": "fb650f05-2c8d-4e5b-c09e-5e0fcb3cd4d2"
      },
      "outputs": [
        {
          "output_type": "stream",
          "name": "stdout",
          "text": [
            "0.2484661812219038\n"
          ]
        }
      ],
      "source": [
        "pred_lasso = model_lasso.predict(x_test)\n",
        "print(np.sqrt(mean_squared_error(pred_lasso, y_test)))"
      ]
    },
    {
      "cell_type": "code",
      "execution_count": 35,
      "metadata": {
        "colab": {
          "base_uri": "https://localhost:8080/"
        },
        "id": "Vrr-Z7wf8YUc",
        "outputId": "b2ae29a9-b4e9-4e95-994f-910a4f0177b4"
      },
      "outputs": [
        {
          "output_type": "execute_result",
          "data": {
            "text/plain": [
              "0.9080769981808597"
            ]
          },
          "metadata": {},
          "execution_count": 35
        }
      ],
      "source": [
        "r2_score(y_test,pred_lasso)"
      ]
    },
    {
      "cell_type": "code",
      "execution_count": 36,
      "metadata": {
        "colab": {
          "base_uri": "https://localhost:8080/"
        },
        "id": "rwKZ8xPZ8ZDq",
        "outputId": "a2de2d76-d6c1-4499-96ff-3b50e9a1ff69"
      },
      "outputs": [
        {
          "output_type": "stream",
          "name": "stderr",
          "text": [
            "/usr/local/lib/python3.8/dist-packages/sklearn/linear_model/_base.py:148: FutureWarning: 'normalize' was deprecated in version 1.0 and will be removed in 1.2. Please leave the normalize parameter to its default value to silence this warning. The default behavior of this estimator is to not do any normalization. If normalization is needed please use sklearn.preprocessing.StandardScaler instead.\n",
            "  warnings.warn(\n"
          ]
        },
        {
          "output_type": "execute_result",
          "data": {
            "text/plain": [
              "Ridge(alpha=0.5, normalize=False, random_state=42, tol=0.01)"
            ]
          },
          "metadata": {},
          "execution_count": 36
        }
      ],
      "source": [
        "from sklearn.linear_model import Ridge\n",
        "model_r = Ridge(alpha = 0.5, normalize = False, tol = 0.01, solver='auto', random_state=42)\n",
        "model_r.fit(x_train,y_train)"
      ]
    },
    {
      "cell_type": "code",
      "execution_count": 37,
      "metadata": {
        "id": "x2Kgrj378fU-"
      },
      "outputs": [],
      "source": [
        "# predicting the y_test\n",
        "y_pred_r = model_r.predict(x_test)"
      ]
    },
    {
      "cell_type": "code",
      "execution_count": 38,
      "metadata": {
        "colab": {
          "base_uri": "https://localhost:8080/"
        },
        "id": "FVrlCe7t8hKa",
        "outputId": "97cced1a-198a-4485-9f6f-e4b44c20287c"
      },
      "outputs": [
        {
          "output_type": "execute_result",
          "data": {
            "text/plain": [
              "0.9280033917301274"
            ]
          },
          "metadata": {},
          "execution_count": 38
        }
      ],
      "source": [
        "#finding score for our model\n",
        "r2_score(y_pred_r, y_test)"
      ]
    }
  ],
  "metadata": {
    "colab": {
      "provenance": []
    },
    "kernelspec": {
      "display_name": "Python 3",
      "name": "python3"
    },
    "language_info": {
      "name": "python"
    }
  },
  "nbformat": 4,
  "nbformat_minor": 0
}